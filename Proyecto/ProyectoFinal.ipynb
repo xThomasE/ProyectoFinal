{
 "cells": [
  {
   "cell_type": "markdown",
   "metadata": {},
   "source": [
    "    "
   ]
  },
  {
   "cell_type": "markdown",
   "metadata": {},
   "source": [
    "<img src=\"eafit.png\" width=\"400\" height=\"400\" align=\"centre\"/>"
   ]
  },
  {
   "cell_type": "markdown",
   "metadata": {},
   "source": [
    "<h1 align=\"center\">FUNDAMENTOS DE PROGRAMACIÓN ST0286-003</h1>\n",
    "<h1 align=\"center\">Proyecto Análisis de Riqueza</h1>\n",
    "<h1 align=\"center\">Medellín - Colombia</h1>"
   ]
  },
  {
   "cell_type": "markdown",
   "metadata": {
    "toc": true
   },
   "source": [
    "<h1>Tabla de contenidos<span class=\"tocSkip\"></span></h1>\n",
    "<div class=\"toc\"><ul class=\"toc-item\"><li><span><a href=\"#MIEMBROS-DEL-EQUIPO\" data-toc-modified-id=\"MIEMBROS-DEL-EQUIPO-1\"><span class=\"toc-item-num\">1&nbsp;&nbsp;</span><em>MIEMBROS DEL EQUIPO</em></a></span></li><li><span><a href=\"#PALABRAS-CLAVE\" data-toc-modified-id=\"PALABRAS-CLAVE-2\"><span class=\"toc-item-num\">2&nbsp;&nbsp;</span><em>PALABRAS CLAVE</em></a></span></li><li><span><a href=\"#INTRODUCCIÓN\" data-toc-modified-id=\"INTRODUCCIÓN-3\"><span class=\"toc-item-num\">3&nbsp;&nbsp;</span><em>INTRODUCCIÓN</em></a></span><ul class=\"toc-item\"><li><span><a href=\"#Top-10-más-ricos:\" data-toc-modified-id=\"Top-10-más-ricos:-3.1\"><span class=\"toc-item-num\">3.1&nbsp;&nbsp;</span>Top 10 más ricos:</a></span></li></ul></li><li><span><a href=\"#OBJETIVOS\" data-toc-modified-id=\"OBJETIVOS-4\"><span class=\"toc-item-num\">4&nbsp;&nbsp;</span><em>OBJETIVOS</em></a></span><ul class=\"toc-item\"><li><span><a href=\"#Objetivo-General:\" data-toc-modified-id=\"Objetivo-General:-4.1\"><span class=\"toc-item-num\">4.1&nbsp;&nbsp;</span>Objetivo General:</a></span></li><li><span><a href=\"#Objetivos-Especificos:\" data-toc-modified-id=\"Objetivos-Especificos:-4.2\"><span class=\"toc-item-num\">4.2&nbsp;&nbsp;</span>Objetivos Especificos:</a></span></li></ul></li><li><span><a href=\"#MARCO-TEÓRICO\" data-toc-modified-id=\"MARCO-TEÓRICO-5\"><span class=\"toc-item-num\">5&nbsp;&nbsp;</span><em>MARCO TEÓRICO</em></a></span></li><li><span><a href=\"#PROCEDIMIENTO-Y-RESULTADOS\" data-toc-modified-id=\"PROCEDIMIENTO-Y-RESULTADOS-6\"><span class=\"toc-item-num\">6&nbsp;&nbsp;</span><em>PROCEDIMIENTO Y RESULTADOS</em></a></span><ul class=\"toc-item\"><li><span><a href=\"#ANÁLISIS-DE-DATOS:\" data-toc-modified-id=\"ANÁLISIS-DE-DATOS:-6.1\"><span class=\"toc-item-num\">6.1&nbsp;&nbsp;</span><em>ANÁLISIS DE DATOS:</em></a></span></li><li><span><a href=\"#Gráfico-de-barras:\" data-toc-modified-id=\"Gráfico-de-barras:-6.2\"><span class=\"toc-item-num\">6.2&nbsp;&nbsp;</span>Gráfico de barras:</a></span><ul class=\"toc-item\"><li><span><a href=\"#Gráfica:\" data-toc-modified-id=\"Gráfica:-6.2.1\"><span class=\"toc-item-num\">6.2.1&nbsp;&nbsp;</span>Gráfica:</a></span></li></ul></li><li><span><a href=\"#Gráfico-de-torta:\" data-toc-modified-id=\"Gráfico-de-torta:-6.3\"><span class=\"toc-item-num\">6.3&nbsp;&nbsp;</span>Gráfico de torta:</a></span><ul class=\"toc-item\"><li><span><a href=\"#Gráfica:\" data-toc-modified-id=\"Gráfica:-6.3.1\"><span class=\"toc-item-num\">6.3.1&nbsp;&nbsp;</span>Gráfica:</a></span></li></ul></li></ul></li><li><span><a href=\"#ANÁLISIS\" data-toc-modified-id=\"ANÁLISIS-7\"><span class=\"toc-item-num\">7&nbsp;&nbsp;</span><em>ANÁLISIS</em></a></span></li><li><span><a href=\"#CONCLUSIONES\" data-toc-modified-id=\"CONCLUSIONES-8\"><span class=\"toc-item-num\">8&nbsp;&nbsp;</span><em>CONCLUSIONES</em></a></span></li><li><span><a href=\"#REFERENCIAS-BIBLIOGRÁFICAS\" data-toc-modified-id=\"REFERENCIAS-BIBLIOGRÁFICAS-9\"><span class=\"toc-item-num\">9&nbsp;&nbsp;</span><em>REFERENCIAS BIBLIOGRÁFICAS</em></a></span></li></ul></div>"
   ]
  },
  {
   "cell_type": "markdown",
   "metadata": {},
   "source": [
    " ***Nota:*** *Se descargó el paquete [nbextensions](https://jupyter-contrib-nbextensions.readthedocs.io/en/latest/install.html) para la tabla de contenidos.*"
   ]
  },
  {
   "cell_type": "markdown",
   "metadata": {},
   "source": [
    "   "
   ]
  },
  {
   "cell_type": "markdown",
   "metadata": {},
   "source": [
    "## *MIEMBROS DEL EQUIPO*\n",
    "\n",
    "- *Daniel Román Franco*\n",
    "\n",
    "- *Johann Ruiz Montalvo* \n",
    "\n",
    "- *Juan Pablo Gómez Álvarez* \n",
    "\n",
    "- *Thomas Escobar Marin* \n"
   ]
  },
  {
   "cell_type": "markdown",
   "metadata": {},
   "source": [
    " ***Fecha: 4 de Junio 2021***"
   ]
  },
  {
   "cell_type": "markdown",
   "metadata": {},
   "source": [
    "***Realizado en: Jupyter Notebook***"
   ]
  },
  {
   "cell_type": "markdown",
   "metadata": {},
   "source": [
    "  "
   ]
  },
  {
   "cell_type": "markdown",
   "metadata": {},
   "source": [
    "## *PALABRAS CLAVE*"
   ]
  },
  {
   "cell_type": "markdown",
   "metadata": {},
   "source": [
    "`Jupyter`, `Matplotlib`, `Numpy`, `Pandas`, `Python`, `Riqueza`"
   ]
  },
  {
   "cell_type": "markdown",
   "metadata": {},
   "source": [
    "    "
   ]
  },
  {
   "cell_type": "markdown",
   "metadata": {},
   "source": [
    "## *INTRODUCCIÓN*"
   ]
  },
  {
   "cell_type": "markdown",
   "metadata": {},
   "source": [
    "Con la presente investigación se realizará un análisis de datos acerca de [las 500 personas más ricas del mundo](https://www.kaggle.com/frtgnn/500-richest-people-2021) siendo este un tema de interés para la sociedad. Se examinará la manera de cómo estas personas obtuvieron su fortuna, averiguando cuál es su campo de acción, su  nacionalidad, la manera como han aumentado su riqueza en los últimos años y otros factores que se asemejan a ello.\n",
    "\n",
    "Con el uso de elementos afines a la programación, se pretende analizar y estructurar los datos presentados.\n",
    "\n",
    "A continuación mostraremos una lista de las 10 personas más ricas del mundo en la actualidad:"
   ]
  },
  {
   "cell_type": "markdown",
   "metadata": {},
   "source": [
    "***Nota:*** *La lista de las 500 personas más ricas del mundo se descargó como un dato CSV (Comma separated values).*"
   ]
  },
  {
   "cell_type": "markdown",
   "metadata": {},
   "source": [
    "### Top 10 más ricos:"
   ]
  },
  {
   "cell_type": "code",
   "execution_count": 4,
   "metadata": {},
   "outputs": [
    {
     "data": {
      "text/html": [
       "<div>\n",
       "<style scoped>\n",
       "    .dataframe tbody tr th:only-of-type {\n",
       "        vertical-align: middle;\n",
       "    }\n",
       "\n",
       "    .dataframe tbody tr th {\n",
       "        vertical-align: top;\n",
       "    }\n",
       "\n",
       "    .dataframe thead th {\n",
       "        text-align: right;\n",
       "    }\n",
       "</style>\n",
       "<table border=\"1\" class=\"dataframe\">\n",
       "  <thead>\n",
       "    <tr style=\"text-align: right;\">\n",
       "      <th></th>\n",
       "      <th>Rank</th>\n",
       "      <th>Name</th>\n",
       "      <th>Total Net Worth</th>\n",
       "      <th>$ Last Change</th>\n",
       "      <th>$ YTD Change</th>\n",
       "      <th>Country</th>\n",
       "      <th>Industry</th>\n",
       "    </tr>\n",
       "  </thead>\n",
       "  <tbody>\n",
       "    <tr>\n",
       "      <th>0</th>\n",
       "      <td>1</td>\n",
       "      <td>Jeff Bezos</td>\n",
       "      <td>$188B</td>\n",
       "      <td>+$1.68B</td>\n",
       "      <td>-$2.31B</td>\n",
       "      <td>United States</td>\n",
       "      <td>Technology</td>\n",
       "    </tr>\n",
       "    <tr>\n",
       "      <th>1</th>\n",
       "      <td>2</td>\n",
       "      <td>Elon Musk</td>\n",
       "      <td>$170B</td>\n",
       "      <td>-$2.89B</td>\n",
       "      <td>+$773M</td>\n",
       "      <td>United States</td>\n",
       "      <td>Technology</td>\n",
       "    </tr>\n",
       "    <tr>\n",
       "      <th>2</th>\n",
       "      <td>3</td>\n",
       "      <td>Bernard Arnault</td>\n",
       "      <td>$155B</td>\n",
       "      <td>+$892M</td>\n",
       "      <td>+$40.9B</td>\n",
       "      <td>France</td>\n",
       "      <td>Consumer</td>\n",
       "    </tr>\n",
       "    <tr>\n",
       "      <th>3</th>\n",
       "      <td>4</td>\n",
       "      <td>Bill Gates</td>\n",
       "      <td>$144B</td>\n",
       "      <td>-$1.32B</td>\n",
       "      <td>+$12.2B</td>\n",
       "      <td>United States</td>\n",
       "      <td>Technology</td>\n",
       "    </tr>\n",
       "    <tr>\n",
       "      <th>4</th>\n",
       "      <td>5</td>\n",
       "      <td>Mark Zuckerberg</td>\n",
       "      <td>$114B</td>\n",
       "      <td>+$203M</td>\n",
       "      <td>+$10.9B</td>\n",
       "      <td>United States</td>\n",
       "      <td>Technology</td>\n",
       "    </tr>\n",
       "    <tr>\n",
       "      <th>5</th>\n",
       "      <td>6</td>\n",
       "      <td>Warren Buffett</td>\n",
       "      <td>$108B</td>\n",
       "      <td>-$2.32B</td>\n",
       "      <td>+$20.6B</td>\n",
       "      <td>United States</td>\n",
       "      <td>Diversified</td>\n",
       "    </tr>\n",
       "    <tr>\n",
       "      <th>6</th>\n",
       "      <td>7</td>\n",
       "      <td>Larry Page</td>\n",
       "      <td>$104B</td>\n",
       "      <td>-$1.12B</td>\n",
       "      <td>+$21.6B</td>\n",
       "      <td>United States</td>\n",
       "      <td>Technology</td>\n",
       "    </tr>\n",
       "    <tr>\n",
       "      <th>7</th>\n",
       "      <td>8</td>\n",
       "      <td>Sergey Brin</td>\n",
       "      <td>$101B</td>\n",
       "      <td>-$1.06B</td>\n",
       "      <td>+$20.8B</td>\n",
       "      <td>United States</td>\n",
       "      <td>Technology</td>\n",
       "    </tr>\n",
       "    <tr>\n",
       "      <th>8</th>\n",
       "      <td>9</td>\n",
       "      <td>Larry Ellison</td>\n",
       "      <td>$90.6B</td>\n",
       "      <td>-$2.46B</td>\n",
       "      <td>+$10.9B</td>\n",
       "      <td>United States</td>\n",
       "      <td>Technology</td>\n",
       "    </tr>\n",
       "    <tr>\n",
       "      <th>9</th>\n",
       "      <td>10</td>\n",
       "      <td>Steve Ballmer</td>\n",
       "      <td>$89.1B</td>\n",
       "      <td>-$342M</td>\n",
       "      <td>+$8.71B</td>\n",
       "      <td>United States</td>\n",
       "      <td>Technology</td>\n",
       "    </tr>\n",
       "  </tbody>\n",
       "</table>\n",
       "</div>"
      ],
      "text/plain": [
       "   Rank             Name Total Net Worth $ Last Change $ YTD Change  \\\n",
       "0     1       Jeff Bezos           $188B       +$1.68B     -$2.31B    \n",
       "1     2        Elon Musk           $170B       -$2.89B      +$773M    \n",
       "2     3  Bernard Arnault           $155B        +$892M     +$40.9B    \n",
       "3     4       Bill Gates           $144B       -$1.32B     +$12.2B    \n",
       "4     5  Mark Zuckerberg           $114B        +$203M     +$10.9B    \n",
       "5     6   Warren Buffett           $108B       -$2.32B     +$20.6B    \n",
       "6     7       Larry Page           $104B       -$1.12B     +$21.6B    \n",
       "7     8      Sergey Brin           $101B       -$1.06B     +$20.8B    \n",
       "8     9    Larry Ellison          $90.6B       -$2.46B     +$10.9B    \n",
       "9    10    Steve Ballmer          $89.1B        -$342M     +$8.71B    \n",
       "\n",
       "         Country     Industry  \n",
       "0  United States   Technology  \n",
       "1  United States   Technology  \n",
       "2         France     Consumer  \n",
       "3  United States   Technology  \n",
       "4  United States   Technology  \n",
       "5  United States  Diversified  \n",
       "6  United States   Technology  \n",
       "7  United States   Technology  \n",
       "8  United States   Technology  \n",
       "9  United States   Technology  "
      ]
     },
     "execution_count": 4,
     "metadata": {},
     "output_type": "execute_result"
    }
   ],
   "source": [
    "import numpy as np\n",
    "import matplotlib.pyplot as plt\n",
    "import pandas as pd\n",
    "\n",
    "data = pd.read_csv(\"ricos_base.csv\")\n",
    "\n",
    "data.head(10)"
   ]
  },
  {
   "cell_type": "markdown",
   "metadata": {},
   "source": [
    "   "
   ]
  },
  {
   "cell_type": "markdown",
   "metadata": {},
   "source": [
    "<img src=\"richest.jpg\" width=\"620\" height=\"700\" align=\"left\"/>"
   ]
  },
  {
   "cell_type": "markdown",
   "metadata": {},
   "source": [
    "***Fuente:*** [Top 10 richest people](https://www.info-4you.in/2020/07/world-top-10-richest-persons.html)"
   ]
  },
  {
   "cell_type": "markdown",
   "metadata": {},
   "source": [
    "   "
   ]
  },
  {
   "cell_type": "markdown",
   "metadata": {},
   "source": [
    "## *OBJETIVOS*"
   ]
  },
  {
   "cell_type": "markdown",
   "metadata": {},
   "source": [
    "### Objetivo General:"
   ]
  },
  {
   "cell_type": "markdown",
   "metadata": {},
   "source": [
    "- Realizar un proyecto de investigación sobre las 500 personas más ricas del mundo, poniendo en práctica los conocimientos adquiridos durante el semestre en la materia Fundamentos de programación, al igual que adquirir nuevos conocimientos para aumentar nuestras técnicas y discernimiento en el ámbito de programación al utilizar diferentes lenguajes y programas afines al `Ecosistema Python` como lo son `Pandas`, `Numpy`, `Jupyter`,  y `Matplotlib`."
   ]
  },
  {
   "cell_type": "markdown",
   "metadata": {},
   "source": [
    "### Objetivos Especificos:"
   ]
  },
  {
   "cell_type": "markdown",
   "metadata": {},
   "source": [
    "- Analizar las nacionalidades de las personas más ricas del mundo.\n",
    "\n",
    "- Realizar una lista con las personas más ricas del mundo en orden consecutivo de riqueza.\n",
    "\n",
    "- Distinguir los diferentes campos ocupacionales en los cuales estas personas se desempeñan  y obtienen sus riquezas.\n",
    "\n",
    "- Utilizar y adaptar bases de datos encontradas en la web, y a partir de lo anterior utilizar diferentes conjuntos de datos, y facilitar su visualización mediante el proyecto elaborado.\n"
   ]
  },
  {
   "cell_type": "markdown",
   "metadata": {},
   "source": [
    "  "
   ]
  },
  {
   "cell_type": "markdown",
   "metadata": {},
   "source": [
    "## *MARCO TEÓRICO*"
   ]
  },
  {
   "cell_type": "markdown",
   "metadata": {},
   "source": [
    "Para la realización de nuestro proyecto, buscamos un análisis de datos de las 500 personas más ricas del mundo en [Kaggle](https://www.kaggle.com/frtgnn/500-richest-people-2021) la cual es una plataforma de uso libre para extraer data sets.  Para mostrar el análisis de los datos nos basamos en los códigos abiertos de la página [MatPlotLib](https://matplotlib.org/), y apartir de estás gráficas sacar conclusiones en lo referido a nuestro proyecto."
   ]
  },
  {
   "cell_type": "markdown",
   "metadata": {},
   "source": [
    " "
   ]
  },
  {
   "cell_type": "markdown",
   "metadata": {},
   "source": [
    "## *PROCEDIMIENTO Y RESULTADOS*"
   ]
  },
  {
   "cell_type": "markdown",
   "metadata": {},
   "source": [
    "### *ANÁLISIS DE DATOS:* "
   ]
  },
  {
   "cell_type": "markdown",
   "metadata": {},
   "source": [
    "### Gráfico de barras:"
   ]
  },
  {
   "cell_type": "markdown",
   "metadata": {},
   "source": [
    "**A continuacion para formar el grafico de barras, por favor asigne un país y la cantidad de personas que desea ver en la gráfica (recomendamos menos de 30 personas).**\n",
    "\n",
    "- <strong> Países a escoger : </strong> \n",
    "Argentina, Australia, Austria, Brazil, Canada, Canda, Cayman Islands, Chile, China, Colombia, Cyprus, Denmark, Egypt, Finland, France, Georgia, Germany, Hong Kong, India, Indonesia, Ireland, Israel, Italy, Japan, Kazakhstan, Korea,Malaysia, Mexico, Monaco, Netherlands, New Zealand, Nigeria, Norway, Philippines, Romania, Russia, Saudi Arabia, Singapore, South Africa, Spain, Spain , Sweden, Switzerland, Taiwan, Thailand, Ukraine, United Arab Emirates, United Kingdom, United States, Viet Nam."
   ]
  },
  {
   "cell_type": "code",
   "execution_count": 6,
   "metadata": {},
   "outputs": [],
   "source": [
    "# Ingrese el país\n",
    "pais = \"United States\"\n",
    "\n",
    "# Ingrese el número de personas\n",
    "\n",
    "cantidadPersonasEnRanking = 10"
   ]
  },
  {
   "cell_type": "markdown",
   "metadata": {},
   "source": [
    "#### Gráfica:"
   ]
  },
  {
   "cell_type": "code",
   "execution_count": 7,
   "metadata": {},
   "outputs": [
    {
     "data": {
      "image/png": "[encoded data removed]",
      "text/plain": [
       "<Figure size 1440x360 with 1 Axes>"
      ]
     },
     "metadata": {
      "needs_background": "light"
     },
     "output_type": "display_data"
    },
    {
     "name": "stdout",
     "output_type": "stream",
     "text": [
      "TABLA DE LEYENDAS\n",
      "------------------\n",
      " P1 - Jorge Paulo Lemann' ( $25.6B - Food & Beverage ) \n",
      " P2 - Eduardo Saverin ( $16.6B - Technology ) \n",
      " P3 - Jorge Moll & Family ( $15.0B - Health Care ) \n",
      " P4 - Marcel Telles ( $12.2B - Food & Beverage ) \n",
      " P5 - Carlos Sicupira ( $10.6B - Food & Beverage ) \n"
     ]
    }
   ],
   "source": [
    "data = pd.read_csv('ricos_base.csv')\n",
    "data2 = data.loc[data['Country'] == pais]\n",
    "\n",
    "cadenaNombre = ''\n",
    "dataNombres = []\n",
    "dataLabels = []\n",
    "dataGrafica = []\n",
    "contador = 1\n",
    "for row in data2.iterrows():\n",
    "    if (contador <= cantidadPersonasEnRanking):\n",
    "        CapitalEnBillones = row[1]['Total Net Worth']\n",
    "        cadenaNombre = ' P'+str(contador)+' - '+str(row[1]['Name'])+' ( '+CapitalEnBillones+' - '+str(row[1]['Industry'])+' ) '\n",
    "        dataLabels.append(cadenaNombre)\n",
    "    \n",
    "        dataNombres.append('P' + str(contador))\n",
    "        dataGrafica.append(float(CapitalEnBillones.replace(\"$\", \"\").replace(\"B\", \"\")))\n",
    "    \n",
    "    contador = contador + 1\n",
    "\n",
    "N = len(dataGrafica)\n",
    "men_means = dataGrafica\n",
    "\n",
    "fig, ax = plt.subplots(figsize=(20,5))\n",
    "\n",
    "ind = np.arange(N)    # the x locations for the groups\n",
    "width = 0.35         # the width of the bars\n",
    "ax.bar(ind, men_means, width, bottom=0, label='Valor en Billones')\n",
    "\n",
    "ax.set_title('Capital en USD por persona en ' + pais)\n",
    "ax.set_xticks(ind + width / 2)\n",
    "ax.set_xticklabels(dataNombres)\n",
    "\n",
    "ax.set_xlabel('Personas')\n",
    "ax.set_ylabel('Capital')\n",
    "\n",
    "ax.legend()\n",
    "ax.autoscale_view()\n",
    "\n",
    "plt.show()\n",
    "\n",
    "print('TABLA DE LEYENDAS')\n",
    "print('------------------')\n",
    "for valor in dataLabels:\n",
    "    print(valor)"
   ]
  },
  {
   "cell_type": "markdown",
   "metadata": {},
   "source": [
    "    "
   ]
  },
  {
   "cell_type": "markdown",
   "metadata": {},
   "source": [
    "### Gráfico de torta:"
   ]
  },
  {
   "cell_type": "markdown",
   "metadata": {},
   "source": [
    "**A continuación para formar el gráfico de tortas, por favor asigne el factor de agrupación ( país o industria ) y la cantidad de factores que desea ver en la gráfica.**\n",
    "\n",
    "- <strong> Factores a escoger : </strong> \n",
    "Country, Industry"
   ]
  },
  {
   "cell_type": "code",
   "execution_count": 16,
   "metadata": {},
   "outputs": [],
   "source": [
    "# Ingresa el factor \n",
    "factor = \"Industry\"\n",
    "\n",
    "# Elegir cantidad de factores\n",
    "numeroFactores = 30"
   ]
  },
  {
   "cell_type": "markdown",
   "metadata": {},
   "source": [
    "#### Gráfica:"
   ]
  },
  {
   "cell_type": "code",
   "execution_count": 32,
   "metadata": {},
   "outputs": [
    {
     "data": {
      "image/png": "[encoded data removed]",
      "text/plain": [
       "<Figure size 2880x720 with 1 Axes>"
      ]
     },
     "metadata": {},
     "output_type": "display_data"
    }
   ],
   "source": [
    "data = pd.read_csv('ricos_base.csv', usecols=[\"Name\", \"Industry\", \"Country\"])\n",
    "data2 = data.groupby([factor]).count()\n",
    "\n",
    "cadena = ''\n",
    "dataGrafica = []\n",
    "\n",
    "contador = 1\n",
    "for row in data2.iterrows():\n",
    "    if (contador <= numeroFactores):\n",
    "        cadena = '' + str(row[1]['Name']) + \",\" + row[0] + ''\n",
    "        dataGrafica.append(cadena)\n",
    "    contador = contador + 1\n",
    "\n",
    "fig, ax = plt.subplots(figsize=(40, 10), subplot_kw=dict(aspect=\"equal\"))\n",
    "\n",
    "data = [float(x.split(',')[0]) for x in dataGrafica]\n",
    "agrupador = [x.split(',')[-1] for x in dataGrafica]\n",
    "\n",
    "def func(pct, allvals):\n",
    "    absolute = int(round(pct/100.*np.sum(allvals)))\n",
    "    return \"{:.1f}%\\n({:d} p)\".format(pct, absolute)\n",
    "\n",
    "wedges, texts, autotexts = ax.pie(data, autopct=lambda pct: func(pct, data),textprops=dict(color=\"w\"))\n",
    "\n",
    "ax.legend(wedges, agrupador, title=factor, loc=\"center left\", bbox_to_anchor=(1, 0, 0.1, 1))\n",
    "\n",
    "plt.setp(autotexts, size = 8, weight = \"bold\" )\n",
    "\n",
    "ax.set_title(\"Número de personas por \" + factor)\n",
    "\n",
    "plt.show()"
   ]
  },
  {
   "cell_type": "markdown",
   "metadata": {},
   "source": [
    "     "
   ]
  },
  {
   "cell_type": "markdown",
   "metadata": {},
   "source": [
    "## *ANÁLISIS*"
   ]
  },
  {
   "cell_type": "markdown",
   "metadata": {},
   "source": [
    "- A partir del primer código se puede observar una tabla con el ranking de las personas más ricas del mundo con su respectivo país, industria, total net worth y su variación anual; en la que podemos interactuar en la tabla modificando la cantidad a mostrar.\n",
    "\n",
    "- En el código de la gráfica de barras podemos evidenciar las personas más ricas por país y la diferencia entre su capital.       Además de poder escoger la cantidad.\n",
    "\n",
    "- En el código de la gráfica de torta podemos observar los campos de acción mejores cotizados en la economía y que generan más riqueza. Al igual podemos alternar entre país e industria (country and industry) para ver sus diferencias.\n"
   ]
  },
  {
   "cell_type": "markdown",
   "metadata": {},
   "source": [
    " "
   ]
  },
  {
   "cell_type": "markdown",
   "metadata": {},
   "source": [
    "## *CONCLUSIONES*"
   ]
  },
  {
   "cell_type": "markdown",
   "metadata": {},
   "source": [
    "- La persona más rica del mundo en la actualidad según la lista analizada es [Jeff Bezos](https://es.wikipedia.org/wiki/Jeff_Bezos), el cual se dedica a la industria de la tecnología.\n",
    "\n",
    "- En Colombia tenemos 2 personas en el top de riqueza los cuales son [Alejandro Santo Domingo](https://es.wikipedia.org/wiki/Alejandro_Santo_Domingo) y [Luis Carlos Sarmiento Angulo](https://es.wikipedia.org/wiki/Luis_Carlos_Sarmiento_Angulo).\n",
    "\n",
    "- La industria que ha tenido un mayor auge y crecimiento ha sido la tecnología con mayor personas en el top.\n",
    "\n",
    "- Los países con más personas en la élite de riqueza son Estados Unidos y China.\n",
    "\n",
    "- En Suramérica el país que acumula más personas en el top es Brasil.\n",
    "\n",
    "- En América los países con más personas en el top son Canadá y Estados Unidos.\n",
    "\n",
    "- De Suramérica en el top de riqueza solo encontramos 4 países: Brasil(5), Colombia(2), Chile(1), Argentina(1).\n",
    "\n",
    "- El Sector más débil es la industria del entretenimiento."
   ]
  },
  {
   "cell_type": "markdown",
   "metadata": {},
   "source": [
    "***Nota:*** *Las conclusiones están basadas en un ambito más regional (América) debido a que puede ser de mayor interés para el público al que se va a exponer el proyecto.*"
   ]
  },
  {
   "cell_type": "markdown",
   "metadata": {},
   "source": [
    "  "
   ]
  },
  {
   "cell_type": "markdown",
   "metadata": {},
   "source": [
    "## *REFERENCIAS BIBLIOGRÁFICAS*"
   ]
  },
  {
   "cell_type": "markdown",
   "metadata": {},
   "source": [
    "- [Gráfica de barras](https://matplotlib.org/stable/gallery/lines_bars_and_markers/barchart.html#sphx-glr-gallery-lines-bars-and-markers-barchart-py)\n",
    "\n",
    "- [Gráfica de torta](https://matplotlib.org/stable/gallery/pie_and_polar_charts/pie_and_donut_labels.html#sphx-glr-gallery-pie-and-polar-charts-pie-and-donut-labels-py)\n",
    "\n",
    "- [Pandas y Lectura de archivos](https://pandas.pydata.org/pandas-docs/stable/reference/api/pandas.DataFrame.groupby.html)\n",
    "\n",
    "- [Gráficas y funciones de visualización](https://matplotlib.org/stable/api/axes_api.html)\n",
    "\n",
    "- [Funciones de Python en general](https://www.w3schools.com/python/)\n",
    "\n",
    "- [Manual Jupyter](https://eprints.ucm.es/id/eprint/48304/1/ManualJupyter.pdf)\n",
    "\n",
    "- [Añadir imagenes](https://es.stackoverflow.com/questions/77634/como-agregar-una-imagen-a-un-notebook-en-jupyter)\n",
    "\n",
    "- [Extraccion de datos](https://www.kaggle.com/frtgnn/500-richest-people-2021)\n"
   ]
  },
  {
   "cell_type": "markdown",
   "metadata": {},
   "source": [
    "  "
   ]
  }
 ],
 "metadata": {
  "kernelspec": {
   "display_name": "Python 3",
   "language": "python",
   "name": "python3"
  },
  "language_info": {
   "codemirror_mode": {
    "name": "ipython",
    "version": 3
   },
   "file_extension": ".py",
   "mimetype": "text/x-python",
   "name": "python",
   "nbconvert_exporter": "python",
   "pygments_lexer": "ipython3",
   "version": "3.8.5"
  },
  "toc": {
   "base_numbering": "1",
   "nav_menu": {},
   "number_sections": true,
   "sideBar": true,
   "skip_h1_title": true,
   "title_cell": "Tabla de contenidos",
   "title_sidebar": "Tabla de contenidos",
   "toc_cell": true,
   "toc_position": {
    "height": "calc(100% - 180px)",
    "left": "10px",
    "top": "150px",
    "width": "209px"
   },
   "toc_section_display": true,
   "toc_window_display": true
  }
 },
 "nbformat": 4,
 "nbformat_minor": 2
}
